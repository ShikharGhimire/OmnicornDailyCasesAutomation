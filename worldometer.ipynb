{
 "cells": [
  {
   "cell_type": "code",
   "execution_count": 142,
   "metadata": {},
   "outputs": [
    {
     "name": "stderr",
     "output_type": "stream",
     "text": [
      "\n",
      "\n",
      "====== WebDriver manager ======\n",
      "Current google-chrome version is 98.0.4758\n",
      "Get LATEST chromedriver version for 98.0.4758 google-chrome\n",
      "Trying to download new driver from https://chromedriver.storage.googleapis.com/98.0.4758.102/chromedriver_mac64.zip\n",
      "Driver has been saved in cache [/Users/shikharghimire/.wdm/drivers/chromedriver/mac64/98.0.4758.102]\n",
      "/Users/shikharghimire/anaconda3/lib/python3.7/site-packages/ipykernel_launcher.py:9: DeprecationWarning: executable_path has been deprecated, please pass in a Service object\n",
      "  if __name__ == '__main__':\n"
     ]
    }
   ],
   "source": [
    "import time\n",
    "from bs4 import BeautifulSoup\n",
    "from selenium import webdriver\n",
    "from webdriver_manager.chrome import ChromeDriverManager\n",
    "import re\n",
    "\n",
    "url = \"https://www.worldometers.info/\"\n",
    "\n",
    "driver = webdriver.Chrome(ChromeDriverManager().install())\n",
    "driver.maximize_window()\n",
    "time.sleep(5)\n",
    "driver.get(url)\n",
    "time.sleep(5)"
   ]
  },
  {
   "cell_type": "code",
   "execution_count": 212,
   "metadata": {},
   "outputs": [],
   "source": [
    "from bs4 import BeautifulSoup as bs\n",
    "import re\n",
    "soup = bs(driver.page_source)\n",
    "this_year = soup.find('div',class_ = 'counter-group',id = 'c52') #Extracting this year list\n",
    "this_year = this_year.get_text().split()"
   ]
  },
  {
   "cell_type": "code",
   "execution_count": 144,
   "metadata": {},
   "outputs": [],
   "source": [
    "information = []\n",
    "dictionary = {}\n",
    "for i in this_year:\n",
    "    if i!='Sources':\n",
    "        information.append(i)\n",
    "    else:\n",
    "        break\n",
    "splits = re.split(r'([\\d,]+)', information[0])\n",
    "final_list = splits+information[1:]\n",
    "while '' in final_list:\n",
    "    final_list.remove('')\n",
    "information.clear()\n",
    "number = final_list[0].replace(',','')\n",
    "final_list = number+',' + ' '.join(final_list[1:])\n",
    "final_list = final_list.split(',')\n",
    "dictionary[final_list[0]] = final_list[1]"
   ]
  },
  {
   "cell_type": "code",
   "execution_count": 213,
   "metadata": {},
   "outputs": [
    {
     "name": "stdout",
     "output_type": "stream",
     "text": [
      "{'2241399': 'Communicable disease deaths this year'}\n",
      "{'1312384': 'Deaths of children under 5 this year'}\n",
      "{'7372414': 'Abortions this year'}\n",
      "{'53367': 'Deaths of mothers during birth this year'}\n",
      "{'43451461': 'HIV/AIDS infected people'}\n",
      "{'290250': 'Deaths caused by HIV/AIDS this year'}\n",
      "{'1418028': 'Deaths caused by cancer this year'}\n",
      "{'68086': 'Deaths caused by malaria this year'}\n",
      "{'955774981569': 'Cigarettes smoked this year'}\n",
      "{'863124': 'Deaths caused by smoking this year'}\n",
      "{'431834': 'Deaths caused by alcohol this year'}\n",
      "{'185150': 'Suicides this year'}\n",
      "{'$': '69'}\n",
      "{'233071': 'Road traffic accident fatalities this year'}\n"
     ]
    }
   ],
   "source": [
    "try:\n",
    "    for i in range(49,63):\n",
    "        this_year = soup.find('div',class_ = 'counter-group',id = 'c{}'.format(i))\n",
    "        this_year = this_year.get_text().split()\n",
    "        information = []\n",
    "        dictionary = {}\n",
    "        for j in this_year:\n",
    "            if j!='Sources':\n",
    "                information.append(j)\n",
    "            else:\n",
    "                break\n",
    "\n",
    "        splits = re.split(r'([\\d,]+)', information[0])\n",
    "        final_list = splits+information[1:]\n",
    "        while '' in final_list:\n",
    "            final_list.remove('')\n",
    "        information.clear()\n",
    "        number = final_list[0].replace(',','')\n",
    "        final_list = number+',' + ' '.join(final_list[1:])\n",
    "        final_list = final_list.split(',')\n",
    "        dictionary[final_list[0]] = final_list[1]\n",
    "        print(dictionary)\n",
    "\n",
    "except:\n",
    "    pass\n"
   ]
  },
  {
   "cell_type": "code",
   "execution_count": 171,
   "metadata": {},
   "outputs": [
    {
     "data": {
      "text/plain": [
       "[]"
      ]
     },
     "execution_count": 171,
     "metadata": {},
     "output_type": "execute_result"
    }
   ],
   "source": [
    "dictionary"
   ]
  },
  {
   "cell_type": "code",
   "execution_count": null,
   "metadata": {},
   "outputs": [],
   "source": []
  },
  {
   "cell_type": "code",
   "execution_count": 145,
   "metadata": {},
   "outputs": [
    {
     "data": {
      "text/plain": [
       "{'52904': 'Deaths of mothers during birth this year'}"
      ]
     },
     "execution_count": 145,
     "metadata": {},
     "output_type": "execute_result"
    }
   ],
   "source": [
    "dictionary"
   ]
  },
  {
   "cell_type": "code",
   "execution_count": null,
   "metadata": {},
   "outputs": [],
   "source": []
  },
  {
   "cell_type": "code",
   "execution_count": null,
   "metadata": {},
   "outputs": [],
   "source": []
  },
  {
   "cell_type": "code",
   "execution_count": 137,
   "metadata": {},
   "outputs": [],
   "source": [
    "from bs4 import BeautifulSoup as bs\n",
    "import re\n",
    "soup = bs(driver.page_source)\n",
    "this_year = soup.find('div',class_ = 'counter-group',id = 'c50') #Extracting this year list"
   ]
  },
  {
   "cell_type": "code",
   "execution_count": 139,
   "metadata": {},
   "outputs": [
    {
     "ename": "SyntaxError",
     "evalue": "invalid syntax (<ipython-input-139-7a07a4e18f98>, line 1)",
     "output_type": "error",
     "traceback": [
      "\u001b[0;36m  File \u001b[0;32m\"<ipython-input-139-7a07a4e18f98>\"\u001b[0;36m, line \u001b[0;32m1\u001b[0m\n\u001b[0;31m    for i in this_year.find_all()\u001b[0m\n\u001b[0m                                 ^\u001b[0m\n\u001b[0;31mSyntaxError\u001b[0m\u001b[0;31m:\u001b[0m invalid syntax\n"
     ]
    }
   ],
   "source": [
    "for i in this_year.find_all()"
   ]
  },
  {
   "cell_type": "code",
   "execution_count": null,
   "metadata": {},
   "outputs": [],
   "source": []
  },
  {
   "cell_type": "code",
   "execution_count": null,
   "metadata": {},
   "outputs": [],
   "source": []
  },
  {
   "cell_type": "code",
   "execution_count": null,
   "metadata": {},
   "outputs": [],
   "source": []
  },
  {
   "cell_type": "code",
   "execution_count": null,
   "metadata": {},
   "outputs": [],
   "source": []
  },
  {
   "cell_type": "code",
   "execution_count": 114,
   "metadata": {},
   "outputs": [
    {
     "data": {
      "text/plain": [
       "<a class=\"settype\" href=\"javascript:void(0)\">today</a>"
      ]
     },
     "execution_count": 114,
     "metadata": {},
     "output_type": "execute_result"
    }
   ],
   "source": [
    "settype"
   ]
  },
  {
   "cell_type": "code",
   "execution_count": 85,
   "metadata": {},
   "outputs": [
    {
     "data": {
      "text/plain": [
       "<a class=\"settype\" href=\"javascript:void(0)\">today</a>"
      ]
     },
     "execution_count": 85,
     "metadata": {},
     "output_type": "execute_result"
    }
   ],
   "source": [
    "mode = 'today'\n",
    "mode = settype.string.replace_with(mode)\n",
    "settype"
   ]
  },
  {
   "cell_type": "code",
   "execution_count": 86,
   "metadata": {},
   "outputs": [
    {
     "data": {
      "text/plain": [
       "<div class=\"counter-group\" id=\"c50\"><div class=\"counter-heading inactive-header\" data-parent=\"#c50\" data-target=\"#dth1s_children\" data-toggle=\"collapse\"> <span class=\"counter-number\"><span class=\"rts-counter\" rel=\"dth1s_children/this_year\"><span class=\"rts-nr-sign\"></span><span class=\"rts-nr-int rts-nr-10e6\">1</span><span class=\"rts-nr-thsep\">,</span><span class=\"rts-nr-int rts-nr-10e3\">279</span><span class=\"rts-nr-thsep\">,</span><span class=\"rts-nr-int rts-nr-10e0\">644</span></span></span><span class=\"counter-item\">Deaths of children under 5 <span class=\"switch\"><a class=\"settype\" href=\"javascript:void(0)\">this year</a></span></span></div><div class=\"collapse counter-body-wrap\" id=\"dth1s_children\"><div class=\"counter-body\"> <strong>Sources and info:</strong> <ul> <li><a href=\"http://www.unicef.org/childsurvival/index_newsline.html\">Young child survival and development</a> - UNICEF </li> <li><a href=\"http://www.childinfo.org/mortality.html\" target=\"_blank\">Child Mortality</a> - Childinfo (UNICEF) </li> </ul> </div></div></div>"
      ]
     },
     "execution_count": 86,
     "metadata": {},
     "output_type": "execute_result"
    }
   ],
   "source": [
    "this_year"
   ]
  },
  {
   "cell_type": "code",
   "execution_count": 76,
   "metadata": {},
   "outputs": [],
   "source": [
    "while settype=='today':\n",
    "    information = []\n",
    "    dictionary = {}\n",
    "    for i in this_year:\n",
    "        if i!='Sources':\n",
    "            information.append(i)\n",
    "        else:\n",
    "            break\n",
    "    splits = re.split(r'([\\d,]+)', information[0])\n",
    "    final_list = splits+information[1:]\n",
    "    while '' in final_list:\n",
    "        final_list.remove('')\n",
    "    information.clear()\n",
    "    number = final_list[0].replace(',','')\n",
    "    final_list = number+',' + ' '.join(final_list[1:])\n",
    "    final_list = final_list.split(',')\n",
    "    dictionary[final_list[0]] = final_list[1]\n"
   ]
  },
  {
   "cell_type": "code",
   "execution_count": 77,
   "metadata": {},
   "outputs": [
    {
     "data": {
      "text/plain": [
       "{'52033': 'Deaths of mothers during birth this year'}"
      ]
     },
     "execution_count": 77,
     "metadata": {},
     "output_type": "execute_result"
    }
   ],
   "source": [
    "dictionary"
   ]
  },
  {
   "cell_type": "code",
   "execution_count": null,
   "metadata": {},
   "outputs": [],
   "source": []
  }
 ],
 "metadata": {
  "kernelspec": {
   "display_name": "Python 3",
   "language": "python",
   "name": "python3"
  },
  "language_info": {
   "codemirror_mode": {
    "name": "ipython",
    "version": 3
   },
   "file_extension": ".py",
   "mimetype": "text/x-python",
   "name": "python",
   "nbconvert_exporter": "python",
   "pygments_lexer": "ipython3",
   "version": "3.7.6"
  }
 },
 "nbformat": 4,
 "nbformat_minor": 4
}
